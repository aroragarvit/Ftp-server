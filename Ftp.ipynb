{
 "cells": [
  {
   "cell_type": "code",
   "execution_count": 19,
   "metadata": {},
   "outputs": [
    {
     "ename": "OSError",
     "evalue": "[Errno 101] Network is unreachable",
     "output_type": "error",
     "traceback": [
      "\u001b[0;31m---------------------------------------------------------------------------\u001b[0m",
      "\u001b[0;31mOSError\u001b[0m                                   Traceback (most recent call last)",
      "\u001b[1;32m/home/garvit/file.ipynb Cell 1\u001b[0m in \u001b[0;36m<cell line: 5>\u001b[0;34m()\u001b[0m\n\u001b[1;32m      <a href='vscode-notebook-cell:/home/garvit/file.ipynb#W0sZmlsZQ%3D%3D?line=0'>1</a>\u001b[0m \u001b[39mfrom\u001b[39;00m \u001b[39mftplib\u001b[39;00m \u001b[39mimport\u001b[39;00m FTP\n\u001b[1;32m      <a href='vscode-notebook-cell:/home/garvit/file.ipynb#W0sZmlsZQ%3D%3D?line=3'>4</a>\u001b[0m \u001b[39mglobal\u001b[39;00m ftp\n\u001b[0;32m----> <a href='vscode-notebook-cell:/home/garvit/file.ipynb#W0sZmlsZQ%3D%3D?line=4'>5</a>\u001b[0m ftp \u001b[39m=\u001b[39m FTP(\u001b[39m'\u001b[39;49m\u001b[39m192.168.1.12\u001b[39;49m\u001b[39m'\u001b[39;49m, user\u001b[39m=\u001b[39;49m\u001b[39m'\u001b[39;49m\u001b[39mGarvit\u001b[39;49m\u001b[39m'\u001b[39;49m, passwd\u001b[39m=\u001b[39;49m\u001b[39m'\u001b[39;49m\u001b[39maroragarvit\u001b[39;49m\u001b[39m'\u001b[39;49m)\n\u001b[1;32m      <a href='vscode-notebook-cell:/home/garvit/file.ipynb#W0sZmlsZQ%3D%3D?line=5'>6</a>\u001b[0m \u001b[39mprint\u001b[39m (\u001b[39m\"\u001b[39m\u001b[39mconnected to FTP\u001b[39m\u001b[39m\"\u001b[39m)\n",
      "File \u001b[0;32m/usr/lib/python3.10/ftplib.py:121\u001b[0m, in \u001b[0;36mFTP.__init__\u001b[0;34m(self, host, user, passwd, acct, timeout, source_address, encoding)\u001b[0m\n\u001b[1;32m    119\u001b[0m \u001b[39mself\u001b[39m\u001b[39m.\u001b[39mtimeout \u001b[39m=\u001b[39m timeout\n\u001b[1;32m    120\u001b[0m \u001b[39mif\u001b[39;00m host:\n\u001b[0;32m--> 121\u001b[0m     \u001b[39mself\u001b[39;49m\u001b[39m.\u001b[39;49mconnect(host)\n\u001b[1;32m    122\u001b[0m     \u001b[39mif\u001b[39;00m user:\n\u001b[1;32m    123\u001b[0m         \u001b[39mself\u001b[39m\u001b[39m.\u001b[39mlogin(user, passwd, acct)\n",
      "File \u001b[0;32m/usr/lib/python3.10/ftplib.py:158\u001b[0m, in \u001b[0;36mFTP.connect\u001b[0;34m(self, host, port, timeout, source_address)\u001b[0m\n\u001b[1;32m    156\u001b[0m     \u001b[39mself\u001b[39m\u001b[39m.\u001b[39msource_address \u001b[39m=\u001b[39m source_address\n\u001b[1;32m    157\u001b[0m sys\u001b[39m.\u001b[39maudit(\u001b[39m\"\u001b[39m\u001b[39mftplib.connect\u001b[39m\u001b[39m\"\u001b[39m, \u001b[39mself\u001b[39m, \u001b[39mself\u001b[39m\u001b[39m.\u001b[39mhost, \u001b[39mself\u001b[39m\u001b[39m.\u001b[39mport)\n\u001b[0;32m--> 158\u001b[0m \u001b[39mself\u001b[39m\u001b[39m.\u001b[39msock \u001b[39m=\u001b[39m socket\u001b[39m.\u001b[39;49mcreate_connection((\u001b[39mself\u001b[39;49m\u001b[39m.\u001b[39;49mhost, \u001b[39mself\u001b[39;49m\u001b[39m.\u001b[39;49mport), \u001b[39mself\u001b[39;49m\u001b[39m.\u001b[39;49mtimeout,\n\u001b[1;32m    159\u001b[0m                                      source_address\u001b[39m=\u001b[39;49m\u001b[39mself\u001b[39;49m\u001b[39m.\u001b[39;49msource_address)\n\u001b[1;32m    160\u001b[0m \u001b[39mself\u001b[39m\u001b[39m.\u001b[39maf \u001b[39m=\u001b[39m \u001b[39mself\u001b[39m\u001b[39m.\u001b[39msock\u001b[39m.\u001b[39mfamily\n\u001b[1;32m    161\u001b[0m \u001b[39mself\u001b[39m\u001b[39m.\u001b[39mfile \u001b[39m=\u001b[39m \u001b[39mself\u001b[39m\u001b[39m.\u001b[39msock\u001b[39m.\u001b[39mmakefile(\u001b[39m'\u001b[39m\u001b[39mr\u001b[39m\u001b[39m'\u001b[39m, encoding\u001b[39m=\u001b[39m\u001b[39mself\u001b[39m\u001b[39m.\u001b[39mencoding)\n",
      "File \u001b[0;32m/usr/lib/python3.10/socket.py:845\u001b[0m, in \u001b[0;36mcreate_connection\u001b[0;34m(address, timeout, source_address)\u001b[0m\n\u001b[1;32m    843\u001b[0m \u001b[39mif\u001b[39;00m err \u001b[39mis\u001b[39;00m \u001b[39mnot\u001b[39;00m \u001b[39mNone\u001b[39;00m:\n\u001b[1;32m    844\u001b[0m     \u001b[39mtry\u001b[39;00m:\n\u001b[0;32m--> 845\u001b[0m         \u001b[39mraise\u001b[39;00m err\n\u001b[1;32m    846\u001b[0m     \u001b[39mfinally\u001b[39;00m:\n\u001b[1;32m    847\u001b[0m         \u001b[39m# Break explicitly a reference cycle\u001b[39;00m\n\u001b[1;32m    848\u001b[0m         err \u001b[39m=\u001b[39m \u001b[39mNone\u001b[39;00m\n",
      "File \u001b[0;32m/usr/lib/python3.10/socket.py:833\u001b[0m, in \u001b[0;36mcreate_connection\u001b[0;34m(address, timeout, source_address)\u001b[0m\n\u001b[1;32m    831\u001b[0m \u001b[39mif\u001b[39;00m source_address:\n\u001b[1;32m    832\u001b[0m     sock\u001b[39m.\u001b[39mbind(source_address)\n\u001b[0;32m--> 833\u001b[0m sock\u001b[39m.\u001b[39;49mconnect(sa)\n\u001b[1;32m    834\u001b[0m \u001b[39m# Break explicitly a reference cycle\u001b[39;00m\n\u001b[1;32m    835\u001b[0m err \u001b[39m=\u001b[39m \u001b[39mNone\u001b[39;00m\n",
      "\u001b[0;31mOSError\u001b[0m: [Errno 101] Network is unreachable"
     ]
    }
   ],
   "source": [
    "from ftplib import FTP\n",
    "\n",
    "                                                                \n",
    "global ftp\n",
    "ftp = FTP('192.168.1.12', user='Garvit', passwd='aroragarvit')\n",
    "print (\"connected to FTP\")"
   ]
  },
  {
   "cell_type": "code",
   "execution_count": 6,
   "metadata": {},
   "outputs": [
    {
     "name": "stdout",
     "output_type": "stream",
     "text": [
      "Defaulting to user installation because normal site-packages is not writeable\n",
      "Collecting pyftpdlib\n",
      "  Downloading pyftpdlib-1.5.6.tar.gz (188 kB)\n",
      "\u001b[2K     \u001b[90m━━━━━━━━━━━━━━━━━━━━━━━━━━━━━━━━━━━━━━━\u001b[0m \u001b[32m188.1/188.1 KB\u001b[0m \u001b[31m4.4 MB/s\u001b[0m eta \u001b[36m0:00:00\u001b[0m00:01\u001b[0m\n",
      "\u001b[?25h  Preparing metadata (setup.py) ... \u001b[?25ldone\n",
      "\u001b[?25hBuilding wheels for collected packages: pyftpdlib\n",
      "  Building wheel for pyftpdlib (setup.py) ... \u001b[?25ldone\n",
      "\u001b[?25h  Created wheel for pyftpdlib: filename=pyftpdlib-1.5.6-py3-none-any.whl size=125597 sha256=ec309f6e47977ea145b8acf748afbad87704922b4bd8d21efe35979f14bc639e\n",
      "  Stored in directory: /home/garvit/.cache/pip/wheels/e9/75/95/4e84383c52195f8b40aa8e6ef17ec8ea06753fa50c76f04e60\n",
      "Successfully built pyftpdlib\n",
      "Installing collected packages: pyftpdlib\n",
      "Successfully installed pyftpdlib-1.5.6\n"
     ]
    }
   ],
   "source": [
    "! pip3 install pyftpdlib"
   ]
  },
  {
   "cell_type": "code",
   "execution_count": 15,
   "metadata": {},
   "outputs": [
    {
     "name": "stderr",
     "output_type": "stream",
     "text": [
      "[I 2022-08-20 19:27:37] concurrency model: async\n",
      "[I 2022-08-20 19:27:37] masquerade (NAT) address: None\n",
      "[I 2022-08-20 19:27:37] passive ports: None\n",
      "[I 2022-08-20 19:27:37] >>> starting FTP server on 0.0.0.0:2121, pid=117059 <<<\n",
      "[I 2022-08-20 19:32:26] received interrupt signal\n",
      "[I 2022-08-20 19:32:26] >>> shutting down FTP server, 1 socket(s), pid=117059 <<<\n"
     ]
    }
   ],
   "source": [
    "from pyftpdlib.authorizers import DummyAuthorizer\n",
    "from pyftpdlib.handlers import FTPHandler\n",
    "from pyftpdlib.servers import FTPServer\n",
    "\n",
    "\n",
    "# The port the FTP server will listen on.\n",
    "# This must be greater than 1023 unless you run this script as root.\n",
    "FTP_PORT = 2121\n",
    "\n",
    "# The name of the FTP user that can log in.\n",
    "FTP_USER = \"Garvit\"\n",
    "\n",
    "# The FTP user's password.\n",
    "FTP_PASSWORD = \"aroragarvit\"\n",
    "\n",
    "# The directory the FTP user will have full read/write access to.\n",
    "FTP_DIRECTORY = \"/home/garvit/Videos\"\n",
    "\n",
    "\n",
    "def main():\n",
    "    authorizer = DummyAuthorizer()\n",
    "\n",
    "    # Define a new user having full r/w permissions.\n",
    "    authorizer.add_user(FTP_USER, FTP_PASSWORD, FTP_DIRECTORY, perm='elradfmw')\n",
    "\n",
    "    handler = FTPHandler\n",
    "    handler.authorizer = authorizer\n",
    "\n",
    "    # Define a customized banner (string returned when client connects)\n",
    "    handler.banner = \"pyftpdlib based ftpd ready.\"\n",
    "\n",
    "    # Optionally specify range of ports to use for passive connections.\n",
    "    #handler.passive_ports = range(60000, 65535)\n",
    "\n",
    "    address = ('', FTP_PORT)\n",
    "    server = FTPServer(address, handler)\n",
    "\n",
    "    server.max_cons = 256\n",
    "    server.max_cons_per_ip = 5\n",
    "\n",
    "    server.serve_forever()\n",
    "\n",
    "\n",
    "if __name__ == '__main__':\n",
    "    main()"
   ]
  },
  {
   "cell_type": "code",
   "execution_count": null,
   "metadata": {},
   "outputs": [],
   "source": []
  }
 ],
 "metadata": {
  "kernelspec": {
   "display_name": "Python 3.10.4 64-bit",
   "language": "python",
   "name": "python3"
  },
  "language_info": {
   "codemirror_mode": {
    "name": "ipython",
    "version": 3
   },
   "file_extension": ".py",
   "mimetype": "text/x-python",
   "name": "python",
   "nbconvert_exporter": "python",
   "pygments_lexer": "ipython3",
   "version": "3.10.4"
  },
  "orig_nbformat": 4,
  "vscode": {
   "interpreter": {
    "hash": "916dbcbb3f70747c44a77c7bcd40155683ae19c65e1c03b4aa3499c5328201f1"
   }
  }
 },
 "nbformat": 4,
 "nbformat_minor": 2
}
